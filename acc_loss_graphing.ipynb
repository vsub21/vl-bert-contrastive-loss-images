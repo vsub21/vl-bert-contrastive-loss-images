{
 "cells": [
  {
   "cell_type": "markdown",
   "metadata": {},
   "source": [
    "# Training Accuracy/Loss Graphing"
   ]
  },
  {
   "cell_type": "code",
   "execution_count": 74,
   "metadata": {},
   "outputs": [],
   "source": [
    "import numpy as np\n",
    "import pandas as pd\n",
    "import matplotlib.pyplot as plt"
   ]
  },
  {
   "cell_type": "code",
   "execution_count": 99,
   "metadata": {},
   "outputs": [],
   "source": [
    "filename = 'sample_log.log'\n",
    "\n",
    "entries = []\n",
    "with open(filename) as fp:\n",
    "    lines = fp.readlines()\n",
    "    for idx, line in enumerate(lines[1719:]):\n",
    "        split = line.split()\n",
    "        entry = {}\n",
    "        \n",
    "        entry['date'] = ' '.join([split[0], split[1]])\n",
    "#         entry['date'] = split[0]\n",
    "#         entry['time'] = split[1]\n",
    "\n",
    "        s = split[3]\n",
    "        entry['gpu'] = s[0][: s.find(\"]\")]\n",
    "        entry['epoch'] = s[s.find(\"[\") + 1 : s.rfind(\"]\")]\n",
    "\n",
    "        entry['batch'] = split[5][1:-1]\n",
    "        if len(split) < 29:            \n",
    "            entry['data'] = None\n",
    "            entry['tran'] = None\n",
    "            entry['F'] = None\n",
    "            entry['B'] = None\n",
    "            entry['O'] = None\n",
    "            entry['M'] = None\n",
    "\n",
    "            entry['train_softacc'] = split[16][14:-1] # len('Train-SoftAcc=') == 14\n",
    "            entry['ans_loss'] = split[17][8:-1] # len('AnsLoss=') == 8\n",
    "\n",
    "            entries.append(entry)\n",
    "        else:\n",
    "            entry['data'] = split[17]\n",
    "            entry['tran'] = split[19]\n",
    "            entry['F'] = split[21]\n",
    "            entry['B'] = split[23]\n",
    "            entry['O'] = split[25]\n",
    "            entry['M'] = split[27]\n",
    "\n",
    "            entry['train_softacc'] = split[28][14:-1] # len('Train-SoftAcc=') == 14\n",
    "            entry['ans_loss'] = split[29][8:-1] # len('AnsLoss=') == 8\n",
    "\n",
    "        entries.append(entry)"
   ]
  },
  {
   "cell_type": "code",
   "execution_count": 113,
   "metadata": {},
   "outputs": [],
   "source": [
    "df = pd.DataFrame(entries)\n",
    "new_dtypes = {\n",
    "    'date': np.object,\n",
    "    'gpu': np.int64,\n",
    "    'epoch': np.int64,\n",
    "    'batch': np.int64,\n",
    "    'data': np.float64,\n",
    "    'tran': np.float64,\n",
    "    'F': np.float64,\n",
    "    'B': np.float64,\n",
    "    'O': np.float64,\n",
    "    'M': np.float64,\n",
    "    'train_softacc': np.float64,\n",
    "    'ans_loss': np.float64\n",
    "}\n",
    "df = df.astype(new_dtypes)"
   ]
  },
  {
   "cell_type": "code",
   "execution_count": 129,
   "metadata": {},
   "outputs": [
    {
     "data": {
      "image/png": "[encoded data removed]",
      "text/plain": [
       "<Figure size 432x288 with 1 Axes>"
      ]
     },
     "metadata": {
      "needs_background": "light"
     },
     "output_type": "display_data"
    }
   ],
   "source": [
    "df1 = df[['batch', 'train_softacc', 'ans_loss']].groupby(['batch']).mean()\n",
    "\n",
    "plt.plot(df1.index, df1['train_softacc'], label='train_softacc')\n",
    "# plt.plot(df1.index, df1['ans_loss'], label='ans_loss')\n",
    "\n",
    "plt.legend(loc='upper right')\n",
    "\n",
    "plt.show()"
   ]
  },
  {
   "cell_type": "code",
   "execution_count": null,
   "metadata": {},
   "outputs": [],
   "source": []
  }
 ],
 "metadata": {
  "kernelspec": {
   "display_name": "Python 3",
   "language": "python",
   "name": "python3"
  },
  "language_info": {
   "codemirror_mode": {
    "name": "ipython",
    "version": 3
   },
   "file_extension": ".py",
   "mimetype": "text/x-python",
   "name": "python",
   "nbconvert_exporter": "python",
   "pygments_lexer": "ipython3",
   "version": "3.8.1"
  },
  "toc": {
   "base_numbering": 1,
   "nav_menu": {},
   "number_sections": true,
   "sideBar": true,
   "skip_h1_title": false,
   "title_cell": "Table of Contents",
   "title_sidebar": "Contents",
   "toc_cell": false,
   "toc_position": {},
   "toc_section_display": true,
   "toc_window_display": false
  }
 },
 "nbformat": 4,
 "nbformat_minor": 4
}
